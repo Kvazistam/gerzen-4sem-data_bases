{
 "cells": [
  {
   "cell_type": "markdown",
   "id": "1e8c4d84-f3dd-4141-881e-019c1c7a8af5",
   "metadata": {},
   "source": [
    "# Что нового в Python 3.8"
   ]
  },
  {
   "cell_type": "markdown",
   "id": "7991d10f",
   "metadata": {},
   "source": [
    "\n",
    "\n",
    "## Добавили метод ```as_integer_ratio()``` для ```int``` и ```bool```\n",
    "   Данный метод был реализован для типа ```float``` и ```decimal```. он возвращал пару интов, числитель и знаменатель данного дробного числа. Теперь работает и для ```int``` и ```bool```. Ниже представлен демонстрация работы данного метода."
   ]
  },
  {
   "cell_type": "code",
   "execution_count": 4,
   "id": "609eb3ee-4708-4edb-bc15-c72d99a8fd16",
   "metadata": {},
   "outputs": [
    {
     "name": "stdout",
     "output_type": "stream",
     "text": [
      "(5, 1) (1, 1) (3602879701896397, 1125899906842624) (3602879701896397, 1125899906842624)\n"
     ]
    }
   ],
   "source": [
    "import decimal\n",
    "test_int=int(5)\n",
    "test_float=3.2\n",
    "test_decimal = decimal.Decimal(3.2)\n",
    "test_bool = True\n",
    "print(test_int.as_integer_ratio(),test_bool.as_integer_ratio(), test_float.as_integer_ratio(), test_decimal.as_integer_ratio())\n"
   ]
  },
  {
   "cell_type": "markdown",
   "id": "b18646bf-69b6-4991-879f-9b66383c60a2",
   "metadata": {},
   "source": [
    "## Модуль Collections\n",
    "   \n",
    "   Метод _asdict() для collections.namedtuple() теперь возвращает dict, а не collections.OrderedDict. Это работает потому, что обычные словари имеют гарантированное упорядочивание, начиная с Python 3.7. Ниже приведен пример использования данного метода."
   ]
  },
  {
   "cell_type": "code",
   "execution_count": 9,
   "id": "83a0d23c",
   "metadata": {},
   "outputs": [
    {
     "name": "stdout",
     "output_type": "stream",
     "text": [
      "Coord(x=10, y=10.5, z=13)\n",
      "('z', 13)\n"
     ]
    }
   ],
   "source": [
    "import collections\n",
    "test_namedtuple = collections.namedtuple('Coord',['x','y','z'])\n",
    "test_coord = test_namedtuple(10,10.5,13)\n",
    "print(test_coord)\n",
    "b=test_coord._asdict()\n",
    "print(b.popitem())"
   ]
  },
  {
   "cell_type": "markdown",
   "id": "59ea7ead",
   "metadata": {},
   "source": [
    "Как видно для обычного словаря b работает метод popitem, который выбирает последний элемент, что значит, что в словаре есть порядок."
   ]
  },
  {
   "cell_type": "markdown",
   "id": "15768b37",
   "metadata": {},
   "source": [
    "# Обновления в Python 3.9"
   ]
  },
  {
   "cell_type": "markdown",
   "id": "e6f0ab63",
   "metadata": {},
   "source": [
    "## Dict\n",
    "\n",
    "Слияние словарей с помощью |"
   ]
  },
  {
   "cell_type": "code",
   "execution_count": 12,
   "id": "4ad2050b",
   "metadata": {},
   "outputs": [
    {
     "name": "stdout",
     "output_type": "stream",
     "text": [
      "{'x': (5, 7, 6), 'y': 2, 'a': (1, 2), 'b': (2, 3)}\n"
     ]
    }
   ],
   "source": [
    "test_dict = {'x':1,'y':2}\n",
    "second_test_dist = {'a':(1,2), 'b':(2,3),'x':(5,7,6)}\n",
    "print(test_dict | second_test_dist)\n"
   ]
  },
  {
   "cell_type": "markdown",
   "id": "6ed26299",
   "metadata": {},
   "source": [
    "## String\n",
    "\n",
    "Новые методы удаления префиксов и суффиксов из строк. ```str.removeprefix(prefix)``` и ```str.removesuffix(suffix)```. Также были добавлены соответствующие методы bytes, bytearray и collections.UserString\n"
   ]
  },
  {
   "cell_type": "code",
   "execution_count": 14,
   "id": "dbab06cd",
   "metadata": {},
   "outputs": [
    {
     "name": "stdout",
     "output_type": "stream",
     "text": [
      "defmakoveev abcdefmako abcdefmakoveev\n"
     ]
    }
   ],
   "source": [
    "test_str = 'abcdefmakoveev'\n",
    "test_remove_pr = test_str.removeprefix('abc')\n",
    "test_remove_suff = test_str.removesuffix('veev')\n",
    "test_remove_pr2 = test_str.removeprefix('ef')\n",
    "print(test_remove_pr, test_remove_suff,test_remove_pr2)\n"
   ]
  },
  {
   "cell_type": "markdown",
   "id": "0227de1d",
   "metadata": {},
   "source": [
    "# Обновления в Python 3.10"
   ]
  },
  {
   "cell_type": "markdown",
   "id": "126482d9",
   "metadata": {},
   "source": [
    "## Новый тип Union\n",
    "\n",
    "Появился новый оператор объединения типов, который позволяет использовать синтаксис X | Y. Это обеспечивает более чистый способ выражения \"либо тип X, либо тип Y\" вместо использования typing.Union, особенно в подсказках типов."
   ]
  },
  {
   "cell_type": "code",
   "execution_count": 19,
   "id": "1529df96",
   "metadata": {},
   "outputs": [
    {
     "name": "stdout",
     "output_type": "stream",
     "text": [
      "False\n",
      "True\n",
      "False\n",
      "True\n"
     ]
    }
   ],
   "source": [
    "from typing import Union\n",
    "\n",
    "\n",
    "def square(number: Union[int, float]) -> Union[int, float]:\n",
    "    return number ** 2\n",
    "\n",
    "test_int_square = square(5)\n",
    "test_float_square = square(5.5)\n",
    "print(isinstance(test_int_square, float))\n",
    "print(isinstance(test_int_square, int | float))\n",
    "print(isinstance(test_float_square, int))\n",
    "print(isinstance(test_float_square, int | float))\n"
   ]
  },
  {
   "cell_type": "markdown",
   "id": "411d7708",
   "metadata": {},
   "source": [
    "## Int\n",
    "\n",
    "В типе int появился новый метод int.bit_count(), возвращающий количество единиц в двоичном расширении данного целого числа, также известный как счетчик населенности."
   ]
  },
  {
   "cell_type": "code",
   "execution_count": 20,
   "id": "5558894a",
   "metadata": {},
   "outputs": [
    {
     "name": "stdout",
     "output_type": "stream",
     "text": [
      "0b11111101000\n",
      "7\n"
     ]
    }
   ],
   "source": [
    "test_int = 2024\n",
    "print(bin(test_int))\n",
    "print(test_int.bit_count())"
   ]
  },
  {
   "cell_type": "markdown",
   "id": "7cb2a24e",
   "metadata": {},
   "source": [
    "## Array\n",
    "\n",
    "Метод index() в array.array теперь имеет необязательные параметры start и stop."
   ]
  },
  {
   "cell_type": "code",
   "execution_count": 24,
   "id": "adbf54f2",
   "metadata": {},
   "outputs": [
    {
     "name": "stdout",
     "output_type": "stream",
     "text": [
      "2\n"
     ]
    },
    {
     "ename": "TypeError",
     "evalue": "array.index() takes no keyword arguments",
     "output_type": "error",
     "traceback": [
      "\u001b[1;31m---------------------------------------------------------------------------\u001b[0m",
      "\u001b[1;31mTypeError\u001b[0m                                 Traceback (most recent call last)",
      "Cell \u001b[1;32mIn[24], line 4\u001b[0m\n\u001b[0;32m      2\u001b[0m test_array \u001b[38;5;241m=\u001b[39m array\u001b[38;5;241m.\u001b[39marray(\u001b[38;5;124m'\u001b[39m\u001b[38;5;124mb\u001b[39m\u001b[38;5;124m'\u001b[39m,[\u001b[38;5;241m1\u001b[39m,\u001b[38;5;241m2\u001b[39m,\u001b[38;5;241m3\u001b[39m,\u001b[38;5;241m4\u001b[39m,\u001b[38;5;241m5\u001b[39m])\n\u001b[0;32m      3\u001b[0m \u001b[38;5;28mprint\u001b[39m(test_array\u001b[38;5;241m.\u001b[39mindex(\u001b[38;5;241m3\u001b[39m,\u001b[38;5;241m1\u001b[39m,\u001b[38;5;241m-\u001b[39m\u001b[38;5;241m1\u001b[39m))\n\u001b[1;32m----> 4\u001b[0m \u001b[38;5;28mprint\u001b[39m(\u001b[43mtest_array\u001b[49m\u001b[38;5;241;43m.\u001b[39;49m\u001b[43mindex\u001b[49m\u001b[43m(\u001b[49m\u001b[38;5;241;43m1\u001b[39;49m\u001b[43m,\u001b[49m\u001b[43mstart\u001b[49m\u001b[38;5;241;43m=\u001b[39;49m\u001b[38;5;241;43m1\u001b[39;49m\u001b[43m,\u001b[49m\u001b[43mstop\u001b[49m\u001b[38;5;241;43m=\u001b[39;49m\u001b[38;5;241;43m-\u001b[39;49m\u001b[38;5;241;43m1\u001b[39;49m\u001b[43m)\u001b[49m)\n",
      "\u001b[1;31mTypeError\u001b[0m: array.index() takes no keyword arguments"
     ]
    }
   ],
   "source": [
    "import array\n",
    "test_array = array.array('b',[1,2,3,4,5])\n",
    "print(test_array.index(3,1,-1))\n",
    "print(test_array.index(1,start=1,stop=-1))\n"
   ]
  },
  {
   "cell_type": "markdown",
   "id": "6f71ce7d",
   "metadata": {},
   "source": [
    "# Обновления в Python 3.11"
   ]
  },
  {
   "cell_type": "markdown",
   "id": "01b7942f",
   "metadata": {},
   "source": [
    "## Self type\n",
    "\n",
    "Новая аннотация Self обеспечивает простой и интуитивно понятный способ аннотирования методов, возвращающих экземпляр своего класса. Этот способ аналогичен подходу на основе TypeVar, описанному в PEP 484, но является более лаконичным и простым.\n",
    "\n",
    "К распространенным случаям использования относятся альтернативные конструкторы, предоставляемые как методы класса, и методы __enter__(), возвращающие self:"
   ]
  },
  {
   "cell_type": "code",
   "execution_count": 28,
   "id": "48aac5fd",
   "metadata": {},
   "outputs": [],
   "source": [
    "from typing import Self\n",
    "\n",
    "\n",
    "class MyLock:\n",
    "    def __enter__(self) -> Self:\n",
    "        self.lock()\n",
    "        return self\n",
    "\n",
    "\n",
    "class MyInt:\n",
    "    @classmethod\n",
    "    def fromhex(cls, s: str) -> Self:\n",
    "        return cls(int(s, 16))"
   ]
  },
  {
   "cell_type": "markdown",
   "id": "b7772ff6",
   "metadata": {},
   "source": [
    "## String\n",
    "\n",
    "Добавьте в string.Template функции get_identifiers() и is_valid(), которые, соответственно, возвращают все допустимые заполнители и наличие недопустимых заполнителей."
   ]
  },
  {
   "cell_type": "code",
   "execution_count": 37,
   "id": "4fa7ca7f",
   "metadata": {},
   "outputs": [
    {
     "name": "stdout",
     "output_type": "stream",
     "text": [
      "['who', 'game'] True\n"
     ]
    }
   ],
   "source": [
    "import string\n",
    "\n",
    "test_string = string.Template(\"$who best player of $game\")\n",
    "print(test_string.get_identifiers(), test_string.is_valid())"
   ]
  },
  {
   "cell_type": "markdown",
   "id": "beb6a54a",
   "metadata": {},
   "source": [
    "# Теперь рассмотрим типы данных модуля Collections"
   ]
  },
  {
   "cell_type": "markdown",
   "id": "73275465",
   "metadata": {},
   "source": [
    "Все представленные ниже типы данных не являются встроенными. Для их использования нужно импортировать модуль collections(```import collections```) \n",
    "\n",
    "## UserDict, UserList, UserString\n",
    "Все три типа данных являются оберткой над встроенными классами ```dict,list,string```. Нужны они, когда мы хотим создать свой кастомный класс на основе базового типа данных. Изначально в python 2.2 нельзя было так сделать, поэтому и существовали такие типы данных. Но в python 3 прямая необходимость в них отпала, единственное это немного удобнее использовать эти типы даных, тк не надо переживать об переопределение методов. Особо примеров придумать не смог, поэтому вот банальный:\n",
    "\n"
   ]
  },
  {
   "cell_type": "code",
   "execution_count": 43,
   "id": "92d8b417",
   "metadata": {},
   "outputs": [
    {
     "name": "stdout",
     "output_type": "stream",
     "text": [
      "{'a': '0x7d', 'b': '0xf5', 'c': '0x15c'}\n"
     ]
    }
   ],
   "source": [
    "from collections import UserDict, UserList\n",
    "\n",
    "\n",
    "class MyDict(UserDict): # словарь содержащий инты и превращающий их в hex представление \n",
    "    def __setitem__(self, key, item: int) -> None:\n",
    "        item=hex(item)\n",
    "        return super().__setitem__(key, item)\n",
    "\n",
    "a = MyDict({'a':125,'b':245,'c':348})\n",
    "print(a)\n",
    "        "
   ]
  },
  {
   "cell_type": "markdown",
   "id": "4341e932",
   "metadata": {},
   "source": [
    "## Deque\n",
    "\n",
    "Deques - это обобщение стеков и очередей (является сокращением от \"двусторонняя очередь\"). Deques поддерживают потокобезопасные, экономящие память добавления и удаления с любой стороны deque с примерно одинаковой производительностью O(1) в любом направлении.\n",
    "Основные методы:\n",
    "1. append(x):\\\n",
    "    Добавляет x в правую часть deque.\n",
    "2. appendleft(x):\\\n",
    "Добавляет x в левую часть deque.\n",
    "3. clear():\\\n",
    "Удаляет все элементы из deque, оставив его длину 0.\n",
    "5. count(x):\\\n",
    "Подсчитывает количество элементов deque, равных x.\n",
    "6. extend(iterable)\n",
    "Расширяет правую часть deque, добавляя элементы из аргумента iterable.\n",
    "7. extendleft(iterable)\n",
    "Расширяет левую часть deque, добавляя элементы из iterable. Обратите внимание, что серия добавлений слева приводит к изменению порядка элементов в аргументе iterable.\n",
    "\n",
    "С полным списком методов можно ознакомиться на сайте оф. документации <https://docs.python.org/3/library/collections.html#collections.deque>\n",
    "\n",
    "В пример будет преведена наивная программа очереди исполняемых процессов. Если процесс требует времени меньше чем 30с, то он ставится в начало очереди. Если больше, то в конец."
   ]
  },
  {
   "cell_type": "code",
   "execution_count": 49,
   "id": "c16510fd",
   "metadata": {},
   "outputs": [
    {
     "name": "stdout",
     "output_type": "stream",
     "text": [
      "deque(['Juice Run 2s', 'Layers Roll 3s', 'Shape-shifting 9s', 'Clothes Run 1s', 'Pancake Run 14s', 'Butt Clash 12s', 'Pancake Run 12s', 'Clothes Run 0s', 'Layers Roll 3s', 'Butt Clash 8s', 'Butt Clash 7s', 'Layers Roll 12s', 'Sandman Run 14s', 'Long Neck Run 5s', 'Butt Clash 12s', 'Sandman Run 12s', 'Sandman Run 2s', 'Clothes Run 55s', 'Sandman Run 63s', 'Hair Rush 76s', 'Sandman Run 45s', 'Butt Clash 84s', 'Pancake Run 38s', 'Layers Roll 57s', 'Long Neck Run 34s', 'Long Neck Run 93s', 'Fat 2 Fit 79s', 'Hair Rush 36s', 'Butt Clash 36s', 'Hair Rush 27s', 'Long Neck Run 42s', 'Clothes Run 65s', 'Butt Clash 85s', 'Shape-shifting 57s', 'Clothes Run 100s', 'Long Neck Run 27s', 'Layers Roll 39s', 'Long Neck Run 98s', 'Clothes Run 17s', 'Sandman Run 80s', 'Hair Rush 91s', 'Butt Clash 43s', 'Sandman Run 68s', 'Long Neck Run 87s', 'Layers Roll 53s', 'Long Neck Run 15s', 'Shape-shifting 52s', 'Fat 2 Fit 29s', 'Clothes Run 88s', 'Butt Clash 74s', 'Butt Clash 36s', 'Long Neck Run 17s', 'Long Neck Run 47s', 'Shape-shifting 78s', 'Fat 2 Fit 24s', 'Sandman Run 37s', 'Long Neck Run 88s', 'Clothes Run 70s', 'Butt Clash 71s', 'Juice Run 67s', 'Layers Roll 47s', 'Juice Run 67s', 'Shape-shifting 52s', 'Juice Run 73s', 'Shape-shifting 88s', 'Layers Roll 29s', 'Shape-shifting 92s', 'Juice Run 66s', 'Clothes Run 84s', 'Fat 2 Fit 47s', 'Sandman Run 94s', 'Juice Run 97s', 'Fat 2 Fit 39s', 'Layers Roll 57s', 'Pancake Run 76s', 'Fat 2 Fit 57s', 'Juice Run 74s', 'Butt Clash 65s', 'Juice Run 95s', 'Clothes Run 42s', 'Clothes Run 77s', 'Fat 2 Fit 48s', 'Pancake Run 57s', 'Sandman Run 55s', 'Fat 2 Fit 21s', 'Clothes Run 22s', 'Fat 2 Fit 60s', 'Shape-shifting 20s', 'Hair Rush 93s', 'Layers Roll 27s', 'Sandman Run 27s', 'Sandman Run 73s', 'Hair Rush 60s', 'Shape-shifting 89s', 'Hair Rush 99s', 'Hair Rush 50s', 'Clothes Run 64s', 'Shape-shifting 61s', 'Butt Clash 82s', 'Clothes Run 57s'])\n"
     ]
    }
   ],
   "source": [
    "import random\n",
    "import collections\n",
    "\n",
    "possible_name = ['Hair Rush ', 'Fat 2 Fit ', 'Sandman Run ', 'Butt Clash ', 'Shape-shifting ', 'Clothes Run ', 'Long Neck Run ', 'Juice Run ', 'Pancake Run ', 'Layers Roll ']\n",
    "class Process():\n",
    "    def __init__(self, time=0, name='defaut'):\n",
    "        self.time=time\n",
    "        self.name=name+str(self.time)+'s'\n",
    "myqueue=collections.deque()\n",
    "for i in range(100):\n",
    "    process=Process(random.randint(0,100),random.choice(possible_name))\n",
    "    if process.time>=15:\n",
    "        myqueue.append(process.name)\n",
    "    else:\n",
    "        myqueue.appendleft(process.name)\n",
    "print(myqueue)"
   ]
  },
  {
   "cell_type": "markdown",
   "id": "7f59b016",
   "metadata": {},
   "source": [
    "## ChainMap\n",
    "Это контейнер словарей. Данный тип данных создается от нескольких словарей и содержит их не составляя один словарь. \n",
    "\n",
    "Поиск последовательно перебирает все базовые отображения, пока не будет найден ключ. В отличие от этого, записи, обновления и удаления работают только с первым отображением.\n",
    "\n",
    "ChainMap включает в себя базовые отображения по ссылке. Поэтому, если одно из базовых отображений будет обновлено, эти изменения будут отражены в ChainMap.\n",
    "\n",
    "Поддерживаются все обычные методы работы со словарями. Кроме того, есть атрибут maps, метод для создания новых подконтекстов и свойство для доступа ко всем отображениям, кроме первого."
   ]
  },
  {
   "cell_type": "code",
   "execution_count": 55,
   "id": "d220d5f0",
   "metadata": {},
   "outputs": [
    {
     "name": "stdout",
     "output_type": "stream",
     "text": [
      "7\n",
      "[{'apple': 5, 'banana': 7}, {'banana': 10, 'orange': 3}, {'orange': 6, 'kiwi': 4}]\n",
      "ChainMap({'grape': 9, 'lemon': 2}, {'apple': 5, 'banana': 7}, {'banana': 10, 'orange': 3}, {'orange': 6, 'kiwi': 4})\n",
      "ChainMap({'banana': 10, 'orange': 3}, {'orange': 6, 'kiwi': 4})\n",
      "4\n",
      "KeysView(ChainMap({'apple': 5, 'banana': 7}, {'banana': 10, 'orange': 3}, {'orange': 6, 'kiwi': 4}))\n",
      "ValuesView(ChainMap({'apple': 5, 'banana': 7}, {'banana': 10, 'orange': 3}, {'orange': 6, 'kiwi': 4}))\n",
      "ItemsView(ChainMap({'apple': 5, 'banana': 7}, {'banana': 10, 'orange': 3}, {'orange': 6, 'kiwi': 4}))\n"
     ]
    }
   ],
   "source": [
    "from collections import ChainMap\n",
    "\n",
    "# Создаем несколько словарей\n",
    "dict1 = {'apple': 5, 'banana': 7}\n",
    "dict2 = {'banana': 10, 'orange': 3}\n",
    "dict3 = {'orange': 6, 'kiwi': 4}\n",
    "\n",
    "# Создаем ChainMap из этих словарей\n",
    "chain = ChainMap(dict1, dict2, dict3)\n",
    "\n",
    "# Выводим значение для 'banana', которое берется из первого словаря, где это значение присутствует\n",
    "print(chain['banana'])\n",
    "\n",
    "# Методы класса ChainMap:\n",
    "\n",
    "# .maps - возвращает список словарей, образующих ChainMap\n",
    "print(chain.maps)\n",
    "\n",
    "# .new_child() - создает новый ChainMap с добавленным словарем\n",
    "dict4 = {'grape': 9, 'lemon': 2}\n",
    "new_chain = chain.new_child(dict4)\n",
    "print(new_chain)\n",
    "\n",
    "# .parents - возвращает новый ChainMap, содержащий все словари, кроме первого\n",
    "print(chain.parents)\n",
    "\n",
    "# .get(key, default=None) - получить значение для ключа, если его нет, вернуть default\n",
    "print(chain.get('kiwi', 'Key not found'))\n",
    "\n",
    "# .keys() - возвращает ключи всех словарей в ChainMap\n",
    "print(chain.keys())\n",
    "\n",
    "# .values() - возвращает значения всех словарей в ChainMap\n",
    "print(chain.values())\n",
    "\n",
    "# .items() - возвращает ключи и значения всех словарей в ChainMap в виде кортежей\n",
    "print(chain.items())\n"
   ]
  },
  {
   "cell_type": "markdown",
   "id": "2bf2e08a",
   "metadata": {},
   "source": [
    "# На этом все)"
   ]
  }
 ],
 "metadata": {
  "kernelspec": {
   "display_name": "Python 3 (ipykernel)",
   "language": "python",
   "name": "python3"
  },
  "language_info": {
   "codemirror_mode": {
    "name": "ipython",
    "version": 3
   },
   "file_extension": ".py",
   "mimetype": "text/x-python",
   "name": "python",
   "nbconvert_exporter": "python",
   "pygments_lexer": "ipython3",
   "version": "3.12.3"
  },
  "widgets": {
   "application/vnd.jupyter.widget-state+json": {
    "state": {},
    "version_major": 2,
    "version_minor": 0
   }
  }
 },
 "nbformat": 4,
 "nbformat_minor": 5
}
