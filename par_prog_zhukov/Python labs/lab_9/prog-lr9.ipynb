{
 "cells": [
  {
   "cell_type": "markdown",
   "metadata": {},
   "source": [
    "# Задание 1\n",
    "\n",
    "__Задание выполняется индивидуально__\n",
    "\n",
    "Для таблицы, расположенной ниже, описать лаконично описать и создать работающие фрагменты кода, реализующие основные концепций из ООП на Python."
   ]
  },
  {
   "cell_type": "markdown",
   "metadata": {},
   "source": [
    "1. Создание классов\n",
    "\n",
    "Создание класса - это процесс определения новой сущности с атрибутами и методами.\n",
    "\n",
    "**Определение**: Класс представляет собой шаблон для создания объектов."
   ]
  },
  {
   "cell_type": "code",
   "execution_count": 1,
   "metadata": {},
   "outputs": [],
   "source": [
    "class Student:\n",
    "    def __init__(self, id, name=None,age=None):\n",
    "        self.id=id\n",
    "        self.name=name\n",
    "        self.age=age"
   ]
  },
  {
   "cell_type": "markdown",
   "metadata": {},
   "source": [
    "2. Создание объектов\n",
    "Создание объекта - это процесс создания экземпляра класса.\n",
    "\n",
    "**Определение**: Объект - это экземпляр класса."
   ]
  },
  {
   "cell_type": "code",
   "execution_count": 3,
   "metadata": {},
   "outputs": [
    {
     "name": "stdout",
     "output_type": "stream",
     "text": [
      "<__main__.Student object at 0x000001FF7718F290>\n",
      "20\n"
     ]
    }
   ],
   "source": [
    "Nikita = Student(14,'Nikita',20)\n",
    "print(Nikita)\n",
    "print(Nikita.age)"
   ]
  },
  {
   "cell_type": "markdown",
   "metadata": {},
   "source": [
    "3. Статический класс, Статический метод, Статический атрибут \n",
    "   \n",
    "**Определение**: Это класс, который содержит только статические методы и атрибуты.\n",
    "\n",
    "**Определение**: Статический метод -- метод, который может быть вызван на классе без создания объекта..\n",
    "\n",
    "**Определение**: Статический атрибут -- атрибут, который может быть вызван на классе без создания объекта.\\\n"
   ]
  },
  {
   "cell_type": "code",
   "execution_count": 5,
   "metadata": {},
   "outputs": [
    {
     "name": "stdout",
     "output_type": "stream",
     "text": [
      "Hello\n",
      "SMALL TEXT\n"
     ]
    }
   ],
   "source": [
    "class SimpleStatic:\n",
    "    message = \"Hello\"\n",
    "    @staticmethod\n",
    "    def convert_to_upper(text):\n",
    "        return text.upper()\n",
    "\n",
    "print(SimpleStatic.message)\n",
    "print(SimpleStatic.convert_to_upper('small text'))"
   ]
  },
  {
   "cell_type": "markdown",
   "metadata": {},
   "source": [
    "4. Аксессоры (getter, setter, deliter)\n",
    "\n",
    "**Определение**: Методы для доступа и изменения приватных атрибутов."
   ]
  },
  {
   "cell_type": "code",
   "execution_count": 10,
   "metadata": {},
   "outputs": [
    {
     "name": "stdout",
     "output_type": "stream",
     "text": [
      "getter of id called\n",
      "setter of id called\n",
      "getter of id called\n",
      "14\n",
      "deleter of id called\n",
      "getter of id called\n",
      "'Student' object has no attribute '_id'\n"
     ]
    }
   ],
   "source": [
    "class Student:\n",
    "    def __init__(self, id, name=None,age=None):\n",
    "        self._id=id\n",
    "        self.name=name\n",
    "        self.age=age\n",
    "    @property\n",
    "    \n",
    "    def id(self):\n",
    "        \"\"\"I'm the 'x' property.\"\"\"\n",
    "        print(\"getter of id called\")\n",
    "        return self._id\n",
    "\n",
    "    @id.setter\n",
    "    def id(self, value):\n",
    "        print(\"setter of id called\")\n",
    "        self._id = value\n",
    "\n",
    "    @id.deleter\n",
    "    def id(self):\n",
    "        print(\"deleter of id called\")\n",
    "        del self._id\n",
    "\n",
    "Nikita = Student(7,'Nikita', 20)\n",
    "Nikita.id\n",
    "Nikita.id = 14\n",
    "print(Nikita.id)\n",
    "del Nikita.id\n",
    "try:\n",
    "    print(Nikita.id)\n",
    "except Exception as e:\n",
    "    print(e)\n",
    "\n"
   ]
  },
  {
   "cell_type": "markdown",
   "metadata": {},
   "source": [
    "5. Инкапсуляция\n",
    "   \n",
    "**Определение**: Принцип скрытия реализации деталей класса."
   ]
  },
  {
   "cell_type": "code",
   "execution_count": 24,
   "metadata": {},
   "outputs": [
    {
     "name": "stdout",
     "output_type": "stream",
     "text": [
      "{'_Student__id': 7, '_name': 'Nikita', 'age': 20}\n",
      "{'_Student__id': 7, '_name': 'Nikita', 'age': 20, 'id': 5}\n"
     ]
    }
   ],
   "source": [
    "class Student:\n",
    "    def __init__(self, id, name=None,age=None):\n",
    "        self.__id=id # Теперь атрибут id скрыт от пользователя данного класса. Он не может его явно менять как ему захочется\n",
    "        self._name=name\n",
    "        self.age=age\n",
    "Nikita = Student(7,'Nikita', 20)\n",
    "print(Nikita.__dict__)\n",
    "Nikita.id=5\n",
    "print(Nikita.__dict__)"
   ]
  },
  {
   "cell_type": "markdown",
   "metadata": {},
   "source": [
    "7. Наследование\n",
    "\n",
    "**Определение**: Класс может наследовать атрибуты и методы другого класса."
   ]
  },
  {
   "cell_type": "code",
   "execution_count": 28,
   "metadata": {},
   "outputs": [
    {
     "name": "stdout",
     "output_type": "stream",
     "text": [
      "{'pid': 7, '_name': 'Nikita', 'age': 20}\n",
      "7\n"
     ]
    }
   ],
   "source": [
    "class User:\n",
    "    def __init__(self, pid=None):\n",
    "        self.pid = pid\n",
    "    def get_pid(self):\n",
    "        return self.pid\n",
    "\n",
    "class Student(User):\n",
    "    def __init__(self, id, name=None,age=None):\n",
    "        super().__init__(id)\n",
    "        self._name=name\n",
    "        self.age=age\n",
    "Nikita = Student(7,'Nikita', 20)\n",
    "print(Nikita.__dict__)\n",
    "print(Nikita.get_pid())"
   ]
  },
  {
   "cell_type": "markdown",
   "metadata": {},
   "source": [
    "8. Полиморфизм\n",
    "   \n",
    "**Определение**: Способность использовать одно и то же имя метода в разных классах.\n"
   ]
  },
  {
   "cell_type": "code",
   "execution_count": 30,
   "metadata": {},
   "outputs": [
    {
     "name": "stdout",
     "output_type": "stream",
     "text": [
      "User Details\n",
      "Student Details\n"
     ]
    }
   ],
   "source": [
    "class User:\n",
    "    def __init__(self, pid=None):\n",
    "        self.pid = pid\n",
    "    def get_pid(self):\n",
    "        return self.pid\n",
    "    def display(self):\n",
    "            return \"User Details\"\n",
    "\n",
    "class Student(User):\n",
    "    def __init__(self, id, name=None,age=None):\n",
    "        super().__init__(id)\n",
    "        self._name=name\n",
    "        self.age=age\n",
    "    def display(self):\n",
    "        return \"Student Details\"\n",
    "\n",
    "def show_details(obj):\n",
    "    print(obj.display())\n",
    "Katya = User(14)\n",
    "Nikita = Student(7,'Nikita', 20)\n",
    "show_details(Katya)\n",
    "show_details(Nikita)"
   ]
  },
  {
   "cell_type": "markdown",
   "metadata": {},
   "source": [
    "9. Интерфейс\n",
    "\n",
    "**Определение**: Абстрактный класс только с абстрактными методами, которые должны быть реализованы в подклассах.\n",
    "\n",
    "Вообще честно говоря, настоящих встроенных интерфейсов в python нет..) Да и в целом такой строгой классификации в python я не знаю, кажется она и не нужна. Интерфейс это все таки что-то из мира джавы)"
   ]
  },
  {
   "cell_type": "code",
   "execution_count": 33,
   "metadata": {},
   "outputs": [
    {
     "data": {
      "text/plain": [
       "'Student Details'"
      ]
     },
     "execution_count": 33,
     "metadata": {},
     "output_type": "execute_result"
    }
   ],
   "source": [
    "from abc import ABC, abstractmethod\n",
    "\n",
    "class Displayable(ABC):\n",
    "    @abstractmethod\n",
    "    def display(self):\n",
    "        pass\n",
    "    \n",
    "class Student(Displayable):\n",
    "    def __init__(self, id, name=None,age=None):\n",
    "        self._name=name\n",
    "        self.age=age\n",
    "        self.id=id\n",
    "    def display(self):\n",
    "        return \"Student Details\"\n",
    "Nikita = Student(7,'Nikita', 20)\n",
    "Nikita.display()"
   ]
  },
  {
   "cell_type": "markdown",
   "metadata": {},
   "source": [
    "10. Множественное наследование\n",
    "\n",
    "**Определение**: Класс может наследовать от нескольких классов. При этом методы и атрибуты наследуются от обоих классов. Если происходит переопределение имен, выбор родительского класса выбирается по принципу MRO С3. Пример из stackoverflow, но он мне нравится."
   ]
  },
  {
   "cell_type": "code",
   "execution_count": 35,
   "metadata": {},
   "outputs": [
    {
     "name": "stdout",
     "output_type": "stream",
     "text": [
      "stop A stop!\n",
      "stop C stop!\n",
      "go B go!\n"
     ]
    }
   ],
   "source": [
    "class A(object):\n",
    "    def go(self):\n",
    "        print(\"go A go!\")\n",
    "    def stop(self):\n",
    "        print(\"stop A stop!\")\n",
    "    def pause(self):\n",
    "        raise Exception(\"Not Implemented\")\n",
    "\n",
    "class B(A):\n",
    "    def go(self):\n",
    "        super(B, self).stop()\n",
    "        print(\"go B go!\")\n",
    "\n",
    "\n",
    "class C(A):\n",
    "    def go(self):\n",
    "        super(C, self).go()\n",
    "        print(\"go C go!\")\n",
    "    def stop(self):\n",
    "        super(C, self).stop()\n",
    "        print(\"stop C stop!\")\n",
    "\n",
    "\n",
    "class E(B,C): pass\n",
    "\n",
    "e=E()\n",
    "e.go()\n"
   ]
  },
  {
   "cell_type": "markdown",
   "metadata": {},
   "source": [
    "11. Примесь (mixin)\n",
    "\n",
    "**Определение**: Класс, который предоставляет методы для использования в других классах."
   ]
  },
  {
   "cell_type": "code",
   "execution_count": 39,
   "metadata": {},
   "outputs": [
    {
     "name": "stdout",
     "output_type": "stream",
     "text": [
      "Log: Displaying student Nikita\n",
      "Student Name: Nikita\n"
     ]
    }
   ],
   "source": [
    "class LogMixin:\n",
    "    def log(self, message):\n",
    "        print(f\"Log: {message}\")\n",
    "\n",
    "class Student(LogMixin):\n",
    "    def __init__(self, id, name=None,age=None):\n",
    "        self._name=name\n",
    "        self.age=age\n",
    "        self.id=id\n",
    "\n",
    "    def display(self):\n",
    "        self.log(f\"Displaying student {self._name}\")\n",
    "        return f\"Student Name: {self._name}\"\n",
    "    \n",
    "Nikita=Student(7,'Nikita',20)\n",
    "print(Nikita.display())"
   ]
  },
  {
   "cell_type": "markdown",
   "metadata": {},
   "source": [
    "12. Перегрузка операторов\n",
    "\n",
    "**Определение**: Метод, позволяющий изменять поведение встроенных операторов для объектов класса.   "
   ]
  },
  {
   "cell_type": "code",
   "execution_count": 41,
   "metadata": {},
   "outputs": [
    {
     "name": "stdout",
     "output_type": "stream",
     "text": [
      "Stundent Nikita age: 20\n"
     ]
    }
   ],
   "source": [
    "class Student():\n",
    "    def __init__(self, id, name=None,age=None):\n",
    "        self._name=name\n",
    "        self.age=age\n",
    "        self.id=id\n",
    "    def __str__(self) -> str:\n",
    "        return f\"Stundent {self._name} age: {self.age}\"\n",
    "    \n",
    "Nikita=Student(7,'Nikita',20)\n",
    "print(Nikita)"
   ]
  },
  {
   "cell_type": "markdown",
   "metadata": {},
   "source": [
    "13. Абстракция\n",
    "**Определение**: Принцип предоставления только необходимой информации и скрытия деталей реализации."
   ]
  },
  {
   "cell_type": "code",
   "execution_count": 42,
   "metadata": {},
   "outputs": [
    {
     "name": "stdout",
     "output_type": "stream",
     "text": [
      "pasport_id: 7\n"
     ]
    }
   ],
   "source": [
    "from abc import ABC, abstractmethod\n",
    "\n",
    "class Person(ABC):\n",
    "    @abstractmethod\n",
    "    def get_pasport_id(self):\n",
    "        pass\n",
    "class User(Person):\n",
    "    def __init__(self, pid=None):\n",
    "        self.pid = pid\n",
    "    def get_pid(self):\n",
    "        return self.pid\n",
    "    def get_pasport_id(self):\n",
    "        return f\"pasport_id: {self.pid}\"\n",
    "\n",
    "class Student(User):\n",
    "    def __init__(self, id, name=None,age=None):\n",
    "        super().__init__(id)\n",
    "        self._name=name\n",
    "        self.age=age\n",
    "    def display(self):\n",
    "        return \"Student Details\"\n",
    "    \n",
    "Nikita=Student(7,'Nikita',20)\n",
    "print(Nikita.get_pasport_id())"
   ]
  },
  {
   "cell_type": "markdown",
   "metadata": {},
   "source": [
    "14. Ассоциация\n",
    "\n",
    "**Определение**: Взаимосвязь между двумя независимыми классами."
   ]
  },
  {
   "cell_type": "code",
   "execution_count": 47,
   "metadata": {},
   "outputs": [
    {
     "name": "stdout",
     "output_type": "stream",
     "text": [
      "proga\n"
     ]
    }
   ],
   "source": [
    "class Course:\n",
    "    def __init__(self, name):\n",
    "        self.name = name\n",
    "\n",
    "class Student:\n",
    "    def __init__(self, name):\n",
    "        self.name = name\n",
    "\n",
    "    def enroll(self, course):\n",
    "        self.course = course\n",
    "Nikita=Student('Nikita')\n",
    "course = Course('proga')\n",
    "Nikita.enroll(course)\n",
    "print(Nikita.course.name)"
   ]
  }
 ],
 "metadata": {
  "kernelspec": {
   "display_name": "Python 3",
   "language": "python",
   "name": "python3"
  },
  "language_info": {
   "codemirror_mode": {
    "name": "ipython",
    "version": 3
   },
   "file_extension": ".py",
   "mimetype": "text/x-python",
   "name": "python",
   "nbconvert_exporter": "python",
   "pygments_lexer": "ipython3",
   "version": "3.12.3"
  }
 },
 "nbformat": 4,
 "nbformat_minor": 2
}
